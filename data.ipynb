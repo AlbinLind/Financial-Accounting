{
 "cells": [
  {
   "cell_type": "code",
   "execution_count": null,
   "metadata": {},
   "outputs": [],
   "source": [
    "%pip install flair"
   ]
  },
  {
   "cell_type": "code",
   "execution_count": 70,
   "metadata": {},
   "outputs": [],
   "source": [
    "from flair.splitter import SegtokSentenceSplitter\n",
    "from flair.nn import Classifier\n"
   ]
  },
  {
   "cell_type": "code",
   "execution_count": 82,
   "metadata": {},
   "outputs": [],
   "source": [
    "from typing import Tuple\n",
    "\n",
    "\n",
    "def get_sentiment(text_path: str) -> Tuple[float]:\n",
    "    \"\"\"Gets the sentiment from the text and returns firstly the sentiment based on the number of positive and negatives, and later the sentiment scaled to the confidence.\n",
    "    Based on this resource: https://www-emerald-com.proxy.uba.uva.nl/insight/content/doi/10.1108/ARA-08-2021-0151/full/pdf\"\"\"\n",
    "    print(\"Loading text...\")\n",
    "    with open(text_path, \"r\", encoding=\"utf-8\") as file:\n",
    "        text = file.read()\n",
    "\n",
    "    splitter = SegtokSentenceSplitter()\n",
    "    print(\"Split text...\")\n",
    "    sentences = splitter.split(text)\n",
    "\n",
    "    print(\"Loading model...\")\n",
    "    tagger = Classifier.load(\"sentiment\")\n",
    "\n",
    "    print(\"Predicting...\")\n",
    "    tagger.predict(sentences)\n",
    "\n",
    "    positive = 0\n",
    "    negative = 0\n",
    "\n",
    "    adj_pos = 0\n",
    "    adj_neg = 0\n",
    "\n",
    "    for sent in sentences:\n",
    "        annot = sent.annotation_layers[\"label\"][0]\n",
    "        if annot._value == \"POSITIVE\":\n",
    "            positive += 1\n",
    "            adj_pos += annot._score\n",
    "        else:\n",
    "            negative += 1\n",
    "            adj_neg += annot._score\n",
    "\n",
    "    return (positive - negative) / (positive + negative), (adj_pos - adj_neg) / (\n",
    "        adj_pos + adj_neg\n",
    "    )\n"
   ]
  },
  {
   "cell_type": "code",
   "execution_count": 83,
   "metadata": {},
   "outputs": [
    {
     "name": "stdout",
     "output_type": "stream",
     "text": [
      "Loading text...\n",
      "Split text...\n",
      "Loading model...\n",
      "Predicting...\n",
      "Loading text...\n",
      "Split text...\n",
      "Loading model...\n",
      "Predicting...\n",
      "Unadjusted sentiment scores:\n",
      "Tesla 2021: 0.0463\n",
      "Tesla 2022: 0.1050\n",
      "==========\n",
      "Adjusted sentiment scores:\n",
      "Tesla 2021: 0.0412\n",
      "Tesla 2022: 0.1107\n"
     ]
    }
   ],
   "source": [
    "tesla_2021 = get_sentiment(\"tesla_md_a_2021.txt\")\n",
    "tesla_2022 = get_sentiment(\"tesla_md_a_2022.txt\")\n",
    "\n",
    "print(\n",
    "    f\"Unadjusted sentiment scores:\\nTesla 2021: {tesla_2021[0]:.4f}\\nTesla 2022: {tesla_2022[0]:.4f}\\n{'='*10}\\nAdjusted sentiment scores:\\nTesla 2021: {tesla_2021[1]:.4f}\\nTesla 2022: {tesla_2022[1]:.4f}\"\n",
    ")\n"
   ]
  }
 ],
 "metadata": {
  "kernelspec": {
   "display_name": "Python 3",
   "language": "python",
   "name": "python3"
  },
  "language_info": {
   "codemirror_mode": {
    "name": "ipython",
    "version": 3
   },
   "file_extension": ".py",
   "mimetype": "text/x-python",
   "name": "python",
   "nbconvert_exporter": "python",
   "pygments_lexer": "ipython3",
   "version": "3.11.2"
  },
  "orig_nbformat": 4
 },
 "nbformat": 4,
 "nbformat_minor": 2
}
